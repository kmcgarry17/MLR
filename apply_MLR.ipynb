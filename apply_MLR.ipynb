{
 "cells": [
  {
   "cell_type": "code",
   "execution_count": 12,
   "metadata": {},
   "outputs": [
    {
     "name": "stdout",
     "output_type": "stream",
     "text": [
      "Once deleted, variables cannot be recovered. Proceed (y/[n])? y\n"
     ]
    },
    {
     "name": "stderr",
     "output_type": "stream",
     "text": [
      "ERROR:root:Invalid alias: The name clear can't be aliased because it is another magic command.\n",
      "ERROR:root:Invalid alias: The name more can't be aliased because it is another magic command.\n",
      "ERROR:root:Invalid alias: The name less can't be aliased because it is another magic command.\n",
      "ERROR:root:Invalid alias: The name man can't be aliased because it is another magic command.\n"
     ]
    }
   ],
   "source": [
    "%reset"
   ]
  },
  {
   "cell_type": "code",
   "execution_count": 5,
   "metadata": {},
   "outputs": [],
   "source": [
    "import netCDF4 as nc\n",
    "import pickle as pk\n",
    "import statistics as st\n",
    "import numpy as np\n",
    "from scipy.io import loadmat\n",
    "import matplotlib.pyplot as plt"
   ]
  },
  {
   "cell_type": "code",
   "execution_count": 6,
   "metadata": {},
   "outputs": [],
   "source": [
    "# import data \n",
    "bcfile = \"/d1/enrique/NWA_bdry_SODA3.3.1_y2012.nc\"\n",
    "bcds = nc.Dataset(bcfile)\n",
    "\n",
    "# temperature \n",
    "pTs = bcds.variables['temp_south']\n",
    "pTe = bcds.variables['temp_east']\n",
    "\n",
    "# salinity\n",
    "Ss = bcds.variables['salt_south'][:]\n",
    "Se = bcds.variables['salt_east'][:]"
   ]
  },
  {
   "cell_type": "code",
   "execution_count": 12,
   "metadata": {},
   "outputs": [
    {
     "data": {
      "text/plain": [
       "(73, 40, 362)"
      ]
     },
     "execution_count": 12,
     "metadata": {},
     "output_type": "execute_result"
    }
   ],
   "source": [
    "# CONVERT FROM POTENTIAL TO ABS TEMP\n",
    "\n",
    "# did it in Matlab\n",
    "# import that file\n",
    "\n",
    "x = loadmat('absT.mat')\n",
    "Te = x['Te']\n",
    "Ts = x['Ts']\n",
    "\n",
    "Te.shape"
   ]
  },
  {
   "cell_type": "code",
   "execution_count": 20,
   "metadata": {},
   "outputs": [
    {
     "data": {
      "text/plain": [
       "Text(0, 0.5, 'absolute temp')"
      ]
     },
     "execution_count": 20,
     "metadata": {},
     "output_type": "execute_result"
    },
    {
     "data": {
      "image/png": "[encoded data removed]",
      "text/plain": [
       "<Figure size 432x288 with 1 Axes>"
      ]
     },
     "metadata": {
      "needs_background": "light"
     },
     "output_type": "display_data"
    }
   ],
   "source": [
    "d1 = Ts[0, 0,:]\n",
    "\n",
    "plt.figure()\n",
    "plt.plot(d1)\n",
    "plt.xlabel('\"latitude\"')\n",
    "plt.ylabel(\"absolute temp\")\n"
   ]
  },
  {
   "cell_type": "code",
   "execution_count": 21,
   "metadata": {},
   "outputs": [],
   "source": [
    "# normalize predictor variables\n",
    "Tm = 13.1856\n",
    "Tstd = 5.1979\n",
    "\n",
    "Sm = 34.4037\n",
    "Sstd = 1.4914\n",
    "\n",
    "#O2m = 214.6618\n",
    "#O2s = 44.6693\n",
    "\n",
    "Ten = (Te-Tm)/Tstd\n",
    "Sen = (Se-Sm)/Sstd\n",
    "\n",
    "Tsn = (Ts-Tm)/Tstd\n",
    "Ssn = (Ss-Sm)/Sstd\n",
    "#O2n = (do-O2m)/O2s"
   ]
  },
  {
   "cell_type": "code",
   "execution_count": 32,
   "metadata": {},
   "outputs": [
    {
     "data": {
      "text/plain": [
       "1.7711462555555944"
      ]
     },
     "execution_count": 32,
     "metadata": {},
     "output_type": "execute_result"
    }
   ],
   "source": [
    "#np.nanstd(Ssn)\n",
    "#np.nanstd(Sen)\n",
    "np.nanstd(Tsn)\n",
    "#np.nanstd(Ten)"
   ]
  },
  {
   "cell_type": "code",
   "execution_count": 35,
   "metadata": {},
   "outputs": [],
   "source": [
    "# these seem equivalent\n",
    "\n",
    "#print(np.isnan(Tsn))\n",
    "#print(np.ma.getmask(Sn))"
   ]
  },
  {
   "cell_type": "code",
   "execution_count": 23,
   "metadata": {},
   "outputs": [
    {
     "data": {
      "text/plain": [
       "0.08483359838321501"
      ]
     },
     "execution_count": 23,
     "metadata": {},
     "output_type": "execute_result"
    }
   ],
   "source": [
    "#np.nanmean(Tn, axis=None)\n",
    "np.nanmean(Sen, axis=None)"
   ]
  },
  {
   "cell_type": "code",
   "execution_count": 38,
   "metadata": {},
   "outputs": [],
   "source": [
    "# calculate empirical model DIC and TA\n",
    "\n",
    "# DIC empirical model coefficients\n",
    "a0=2103.3\n",
    "a1=-56.408\n",
    "a2=58.347\n",
    "a3=-7.2612\n",
    "\n",
    "DICe = a0 + a1*Ten + a2*Sen + a3*Ten*Sen\n",
    "DICs = a0 + a1*Tsn + a2*Ssn + a3*Tsn*Ssn\n",
    "\n",
    "#np.nanmean(DIC, axis=None)\n",
    "#DIC.shape"
   ]
  },
  {
   "cell_type": "code",
   "execution_count": 39,
   "metadata": {},
   "outputs": [
    {
     "data": {
      "text/plain": [
       "(73, 40, 362)"
      ]
     },
     "execution_count": 39,
     "metadata": {},
     "output_type": "execute_result"
    }
   ],
   "source": [
    "Sen.shape"
   ]
  },
  {
   "cell_type": "code",
   "execution_count": 40,
   "metadata": {},
   "outputs": [],
   "source": [
    "# TA coefs\n",
    "b0=2289.4;\n",
    "b1=0.75761;\n",
    "b2=69.15;\n",
    "\n",
    "TAe = b0 + b1*Ten + b2*Sen;\n",
    "TAs = b0 + b1*Tsn + b2*Ssn;\n",
    "\n",
    "#np.nanmean(TA, axis=None)\n",
    "#DIC.shape"
   ]
  },
  {
   "cell_type": "code",
   "execution_count": 41,
   "metadata": {},
   "outputs": [],
   "source": [
    "with open(\"TA.p\", \"wb\") as f:\n",
    "    pk.dump([TAe, TAs], f)   \n",
    "    \n",
    "with open(\"DIC.p\", \"wb\") as f:\n",
    "    pk.dump([DICe, DICs], f)"
   ]
  },
  {
   "cell_type": "code",
   "execution_count": 42,
   "metadata": {},
   "outputs": [
    {
     "data": {
      "text/plain": [
       "OrderedDict([('s_rho',\n",
       "              <class 'netCDF4._netCDF4.Dimension'>: name = 's_rho', size = 40),\n",
       "             ('s_w',\n",
       "              <class 'netCDF4._netCDF4.Dimension'>: name = 's_w', size = 41),\n",
       "             ('eta_rho',\n",
       "              <class 'netCDF4._netCDF4.Dimension'>: name = 'eta_rho', size = 362),\n",
       "             ('xi_rho',\n",
       "              <class 'netCDF4._netCDF4.Dimension'>: name = 'xi_rho', size = 722),\n",
       "             ('ocean_time',\n",
       "              <class 'netCDF4._netCDF4.Dimension'> (unlimited): name = 'ocean_time', size = 73),\n",
       "             ('eta_psi',\n",
       "              <class 'netCDF4._netCDF4.Dimension'>: name = 'eta_psi', size = 361),\n",
       "             ('xi_psi',\n",
       "              <class 'netCDF4._netCDF4.Dimension'>: name = 'xi_psi', size = 721),\n",
       "             ('eta_u',\n",
       "              <class 'netCDF4._netCDF4.Dimension'>: name = 'eta_u', size = 362),\n",
       "             ('xi_u',\n",
       "              <class 'netCDF4._netCDF4.Dimension'>: name = 'xi_u', size = 721),\n",
       "             ('eta_v',\n",
       "              <class 'netCDF4._netCDF4.Dimension'>: name = 'eta_v', size = 361),\n",
       "             ('xi_v',\n",
       "              <class 'netCDF4._netCDF4.Dimension'>: name = 'xi_v', size = 722)])"
      ]
     },
     "execution_count": 42,
     "metadata": {},
     "output_type": "execute_result"
    }
   ],
   "source": [
    "bcds.dimensions"
   ]
  },
  {
   "cell_type": "code",
   "execution_count": null,
   "metadata": {},
   "outputs": [],
   "source": []
  },
  {
   "cell_type": "code",
   "execution_count": null,
   "metadata": {},
   "outputs": [],
   "source": []
  }
 ],
 "metadata": {
  "kernelspec": {
   "display_name": "Python 3",
   "language": "python",
   "name": "python3"
  },
  "language_info": {
   "codemirror_mode": {
    "name": "ipython",
    "version": 3
   },
   "file_extension": ".py",
   "mimetype": "text/x-python",
   "name": "python",
   "nbconvert_exporter": "python",
   "pygments_lexer": "ipython3",
   "version": "3.7.6"
  }
 },
 "nbformat": 4,
 "nbformat_minor": 2
}
